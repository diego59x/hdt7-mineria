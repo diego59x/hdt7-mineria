{
 "cells": [
  {
   "cell_type": "code",
   "execution_count": 138,
   "metadata": {},
   "outputs": [],
   "source": [
    "import matplotlib.pyplot as plt\n",
    "import numpy as np\n",
    "import pandas as pd\n",
    "from sklearn.model_selection import train_test_split\n",
    "from sklearn import preprocessing # scale and center data\n",
    "import matplotlib.colors as colors\n",
    "import seaborn as sns\n",
    "#Metrics\n",
    "from sklearn.metrics import accuracy_score,precision_score\n",
    "from sklearn.model_selection import GridSearchCV # this will do cross validation\n",
    "from sklearn.metrics import confusion_matrix\n",
    "from sklearn.decomposition import PCA # to perform PCA to plot the data\n",
    "from sklearn.metrics import plot_confusion_matrix, accuracy_score, precision_score, recall_score, f1_score\n",
    "pd.set_option('display.max_columns', None)\n",
    "\n",
    "df = pd.read_csv('train.csv', encoding='cp1252')\n",
    "df.replace(to_replace=[np.nan, \"NA\"], value=0, inplace=True)"
   ]
  },
  {
   "cell_type": "code",
   "execution_count": 139,
   "metadata": {},
   "outputs": [
    {
     "name": "stderr",
     "output_type": "stream",
     "text": [
      "C:\\Users\\Oscar Paredez\\AppData\\Local\\Temp\\ipykernel_27248\\1525750946.py:8: FutureWarning: In a future version of pandas all arguments of DataFrame.drop except for the argument 'labels' will be keyword-only.\n",
      "  df.drop(eliminate, 1, inplace=True)\n"
     ]
    },
    {
     "data": {
      "image/png": "[encoded data removed]",
      "text/plain": [
       "<Figure size 864x864 with 2 Axes>"
      ]
     },
     "metadata": {
      "needs_background": "light"
     },
     "output_type": "display_data"
    }
   ],
   "source": [
    "import matplotlib.pyplot as plt\n",
    "\n",
    "import numpy as np\n",
    "int64_bool = df.apply(lambda x: (True if x.dtype == np.int64 else False),axis = 0)\n",
    "df = df[df.columns[int64_bool]]\n",
    "\n",
    "eliminate = ['Id', 'GarageArea', 'GarageCars', 'TotRmsAbvGrd', 'OpenPorchSF', '2ndFlrSF',  'KitchenAbvGr', 'EnclosedPorch', 'OverallCond', '3SsnPorch', 'ScreenPorch', 'PoolArea', 'MiscVal', 'MoSold', 'YrSold', 'YearBuilt', 'YearRemodAdd', 'BsmtFinSF1', 'BsmtUnfSF', 'BsmtFullBath', 'Fireplaces', 'WoodDeckSF', 'BedroomAbvGr', 'FullBath', 'HalfBath', 'MSSubClass', 'LotArea', 'BsmtFinSF2', 'LowQualFinSF', 'BsmtHalfBath']\n",
    "df.drop(eliminate, 1, inplace=True)\n",
    "corrMatrix = df.corr()\n",
    "\n",
    "fig, ax = plt.subplots(figsize=(12, 12))\n",
    "sns.heatmap(corrMatrix, annot=True, linewidths=.5, ax=ax)\n",
    "plt.show()"
   ]
  },
  {
   "cell_type": "code",
   "execution_count": 140,
   "metadata": {},
   "outputs": [],
   "source": [
    "#2\n",
    "\n",
    "minPrice = df['SalePrice'].min()\n",
    "maxPrice = df['SalePrice'].max()\n",
    "avg = (maxPrice - minPrice) / 3\n",
    "df['Clasificacion'] = df['SalePrice']\n",
    "\n",
    "df['Clasificacion'][df['SalePrice'] < minPrice + avg] = 0\n",
    "df['Clasificacion'][df['SalePrice'] >= minPrice + avg] = 1\n",
    "df['Clasificacion'][df['SalePrice'] >= minPrice + avg * 2] = 2"
   ]
  },
  {
   "cell_type": "code",
   "execution_count": 141,
   "metadata": {},
   "outputs": [],
   "source": [
    "df['Cara'] = df['Clasificacion']\n",
    "df['Cara'][df['Clasificacion'] == 2] = 1\n",
    "df['Cara'][df['Clasificacion'] != 2] = 0\n",
    "df['Media'] = df['Clasificacion']\n",
    "df['Media'][df['Clasificacion'] == 1] = 1\n",
    "df['Media'][df['Clasificacion'] != 1] = 0\n",
    "df['Economica'] = df['Clasificacion']\n",
    "df['Economica'][df['Clasificacion'] == 0] = 1\n",
    "df['Economica'][df['Clasificacion'] != 0] = 0"
   ]
  },
  {
   "cell_type": "markdown",
   "metadata": {},
   "source": [
    "Modelo con Clasificacion"
   ]
  },
  {
   "cell_type": "code",
   "execution_count": 142,
   "metadata": {},
   "outputs": [],
   "source": [
    "df = df.drop('SalePrice', axis = 1)\n",
    "df['Clasificacion'] = df['Clasificacion'].astype('category')\n",
    "clasificacion = df.pop('Clasificacion') \n",
    "\n",
    "Y = clasificacion\n",
    "X = df #El resto de los datos\n",
    "\n",
    "X_train, X_test,y_train, y_test = train_test_split(X, Y,test_size=0.3, train_size=0.7, random_state=69)"
   ]
  },
  {
   "cell_type": "markdown",
   "metadata": {},
   "source": [
    "Modelo 1: Categorias de Precio de Casas"
   ]
  },
  {
   "cell_type": "code",
   "execution_count": 143,
   "metadata": {},
   "outputs": [],
   "source": [
    "#Modelo #1\n",
    "from sklearn.preprocessing import StandardScaler\n",
    "from sklearn.neural_network import MLPClassifier, MLPRegressor\n",
    "\n",
    "scaler = StandardScaler()\n",
    "scaler.fit(df)\n",
    "X_train = scaler.transform(X_train)\n",
    "X_test = scaler.transform(X_test)\n"
   ]
  },
  {
   "cell_type": "code",
   "execution_count": 144,
   "metadata": {},
   "outputs": [
    {
     "name": "stdout",
     "output_type": "stream",
     "text": [
      "Accuracy: 1.0\n",
      "Precision: 1.0\n",
      "Recall:  1.0\n",
      "Matriz de confusión:  [[390   0   0]\n",
      " [  0  47   0]\n",
      " [  0   0   1]]\n"
     ]
    }
   ],
   "source": [
    "#Red Neuronal 1\n",
    "\n",
    "mlp = MLPClassifier(hidden_layer_sizes=(10,8), max_iter=500)\n",
    "mlp.fit(X_train,y_train)\n",
    "\n",
    "y_pred = mlp.predict(X_test)\n",
    "\n",
    "print (\"Accuracy:\", accuracy_score(y_test, y_pred))\n",
    "print (\"Precision:\", precision_score(y_test,y_pred,average='micro') )\n",
    "print (\"Recall: \", recall_score(y_test,y_pred,average='micro'))\n",
    "\n",
    "matriz = confusion_matrix(y_test,y_pred)\n",
    "accuracy = accuracy_score(y_test,y_pred)\n",
    "precision = precision_score(y_test, y_pred,average='micro')\n",
    "recall = recall_score(y_test, y_pred,average='micro')\n",
    "f1 = f1_score(y_test,y_pred,average='micro')\n",
    "print('Matriz de confusión: ', matriz)\n"
   ]
  },
  {
   "cell_type": "code",
   "execution_count": 145,
   "metadata": {},
   "outputs": [
    {
     "name": "stdout",
     "output_type": "stream",
     "text": [
      "Accuracy: 0.997716894977169\n",
      "Precision: 0.997716894977169\n",
      "Recall:  0.997716894977169\n",
      "Matriz de confusión:  [[390   0   0]\n",
      " [  0  47   0]\n",
      " [  0   1   0]]\n"
     ]
    }
   ],
   "source": [
    "#Red Neuronal 2\n",
    "\n",
    "mlp = MLPClassifier(hidden_layer_sizes=(8,4), max_iter=500, activation='logistic')\n",
    "mlp.fit(X_train,y_train)\n",
    "\n",
    "y_pred = mlp.predict(X_test)\n",
    "\n",
    "print (\"Accuracy:\", accuracy_score(y_test, y_pred))\n",
    "print (\"Precision:\", precision_score(y_test,y_pred,average='micro') )\n",
    "print (\"Recall: \", recall_score(y_test,y_pred,average='micro'))\n",
    "\n",
    "matriz = confusion_matrix(y_test,y_pred)\n",
    "accuracy = accuracy_score(y_test,y_pred)\n",
    "precision = precision_score(y_test, y_pred,average='micro')\n",
    "recall = recall_score(y_test, y_pred,average='micro')\n",
    "f1 = f1_score(y_test,y_pred,average='micro')\n",
    "print('Matriz de confusión: ', matriz)"
   ]
  },
  {
   "cell_type": "markdown",
   "metadata": {},
   "source": [
    "Modelo con SalePrice"
   ]
  },
  {
   "cell_type": "code",
   "execution_count": 146,
   "metadata": {},
   "outputs": [
    {
     "name": "stderr",
     "output_type": "stream",
     "text": [
      "C:\\Users\\Oscar Paredez\\AppData\\Local\\Temp\\ipykernel_27248\\2421020603.py:8: FutureWarning: In a future version of pandas all arguments of DataFrame.drop except for the argument 'labels' will be keyword-only.\n",
      "  df.drop(cualitativas, 1, inplace=True)\n"
     ]
    }
   ],
   "source": [
    "#volviendo a cargar los datos\n",
    "\n",
    "df = pd.read_csv('train.csv', encoding='cp1252')\n",
    "df.replace(to_replace=[np.nan, \"NA\"], value=0, inplace=True)\n",
    "df.fillna(0)\n",
    "\n",
    "cualitativas = ['Id', 'MSSubClass', 'Functional', 'MSZoning', 'Street', 'Alley', 'LotShape', 'LandContour', 'Utilities', 'LotConfig', 'LandSlope', 'Neighborhood', 'Condition1', 'Condition2', 'BldgType', 'HouseStyle', 'OverallQual', 'OverallCond', 'YearBuilt', 'YearRemodAdd', 'RoofStyle', 'RoofMatl', 'Exterior1st', 'Exterior2nd', 'MasVnrType', 'ExterQual', 'ExterCond', 'Foundation', 'BsmtQual', 'BsmtCond', 'BsmtExposure', 'BsmtFinType1', 'BsmtFinType2', 'Heating', 'HeatingQC', 'CentralAir', 'Electrical', 'KitchenQual', 'FireplaceQu', 'GarageType', 'GarageYrBlt', 'GarageFinish', 'GarageQual', 'GarageCond', 'PavedDrive', 'PoolQC', 'Fence', 'MiscFeature', 'MoSold', 'YrSold', 'SaleType', 'SaleCondition']\n",
    "df.drop(cualitativas, 1, inplace=True)"
   ]
  },
  {
   "cell_type": "code",
   "execution_count": 147,
   "metadata": {},
   "outputs": [],
   "source": [
    "Y = df.pop(\"SalePrice\")\n",
    "X = df #El resto de los datos\n",
    "\n",
    "X_train, X_test,y_train, y_test = train_test_split(X, Y,test_size=0.3, train_size=0.7, random_state=69)"
   ]
  },
  {
   "cell_type": "code",
   "execution_count": 148,
   "metadata": {},
   "outputs": [
    {
     "data": {
      "text/plain": [
       "MLPRegressor(max_iter=500, random_state=69)"
      ]
     },
     "execution_count": 148,
     "metadata": {},
     "output_type": "execute_result"
    }
   ],
   "source": [
    "mlp = MLPRegressor(random_state=69, max_iter=500)\n",
    "mlp.fit(X_train,y_train)\n"
   ]
  },
  {
   "cell_type": "code",
   "execution_count": 149,
   "metadata": {},
   "outputs": [
    {
     "data": {
      "text/plain": [
       "0.6667637363933021"
      ]
     },
     "execution_count": 149,
     "metadata": {},
     "output_type": "execute_result"
    }
   ],
   "source": [
    "#Red Neuronal #1\n",
    "mlp.predict(X_test)\n",
    "mlp.score(X_test, y_test)"
   ]
  },
  {
   "cell_type": "code",
   "execution_count": 150,
   "metadata": {},
   "outputs": [
    {
     "name": "stdout",
     "output_type": "stream",
     "text": [
      "0.6617630369727412\n"
     ]
    },
    {
     "name": "stderr",
     "output_type": "stream",
     "text": [
      "C:\\Users\\Oscar Paredez\\AppData\\Local\\Programs\\Python\\Python39\\lib\\site-packages\\sklearn\\neural_network\\_multilayer_perceptron.py:692: ConvergenceWarning: Stochastic Optimizer: Maximum iterations (500) reached and the optimization hasn't converged yet.\n",
      "  warnings.warn(\n"
     ]
    }
   ],
   "source": [
    "#Red Neuronal 2\n",
    "mlp = MLPRegressor(random_state=69, max_iter=500, hidden_layer_sizes=(3,4), activation='identity')\n",
    "mlp.fit(X_train,y_train)\n",
    "mlp.predict(X_test)\n",
    "\n",
    "print(mlp.score(X_test, y_test))\n"
   ]
  }
 ],
 "metadata": {
  "interpreter": {
   "hash": "ef757d9ebbf51e809968bdb5eb5f88febeb68369e0314eeadc033a1ce6b4ecd9"
  },
  "kernelspec": {
   "display_name": "Python 3.9.5 64-bit",
   "language": "python",
   "name": "python3"
  },
  "language_info": {
   "codemirror_mode": {
    "name": "ipython",
    "version": 3
   },
   "file_extension": ".py",
   "mimetype": "text/x-python",
   "name": "python",
   "nbconvert_exporter": "python",
   "pygments_lexer": "ipython3",
   "version": "3.9.5"
  },
  "orig_nbformat": 4
 },
 "nbformat": 4,
 "nbformat_minor": 2
}
